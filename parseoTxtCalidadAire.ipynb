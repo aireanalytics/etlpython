{
 "cells": [
  {
   "cell_type": "markdown",
   "metadata": {},
   "source": [
    "# Script para leer los fichero txt de calidad del aire y añadir el dato en el csv unificado."
   ]
  },
  {
   "cell_type": "markdown",
   "metadata": {},
   "source": [
    "Lista de los ficheros a leer: Los ficheros son de los años indicados en el bucle (de 2010 a 2016, incluidos). 2017 y posteriores tienen otro formato."
   ]
  },
  {
   "cell_type": "markdown",
   "metadata": {},
   "source": [
    "Lee cada línea del fichero y le inserta ',' después de cada 'V' y no escribe la 'V'. Luego a las posiciones fijas de los datos iniciales también se inserta ','"
   ]
  },
  {
   "cell_type": "code",
   "execution_count": 58,
   "metadata": {},
   "outputs": [],
   "source": [
    "cabecera = \"ESTACION,MAGNITUD,TECNICA,DIARIO,AÑO,MES\"\n",
    "for i in range (1,32)  :\n",
    "    cabecera = cabecera + ',D' + str(i) + ',V' + str(i)"
   ]
  },
  {
   "cell_type": "code",
   "execution_count": 59,
   "metadata": {},
   "outputs": [],
   "source": [
    "funificado = '../dataCalidad/datosCalidadUnificado.csv'\n",
    "f = open (funificado,'w')\n",
    "f.write(cabecera + '\\n')\n",
    "f.close()"
   ]
  },
  {
   "cell_type": "code",
   "execution_count": 60,
   "metadata": {
    "scrolled": true
   },
   "outputs": [],
   "source": [
    "#para incluir de 2010 a 2017 el bucle es del rango [10:17]\n",
    "for i in range (10,17)  :  \n",
    "    fichero = '../dataCalidad/datos' + str(i) + '.txt'\n",
    "    with open(fichero, mode='r') as fentrada:\n",
    "        for linea in fentrada:\n",
    "            lineaFinal =''\n",
    "            setV = False\n",
    "            for caracter in linea:\n",
    "                if (caracter == 'V'):\n",
    "                    lineaFinal = lineaFinal + \",\" + caracter\n",
    "                    setV = True\n",
    "                else:\n",
    "                    if (setV and caracter != '\\n'):\n",
    "                        lineaFinal = lineaFinal + \",\" + caracter\n",
    "                        setV = False\n",
    "                    else:\n",
    "                        lineaFinal = lineaFinal + caracter\n",
    "            \n",
    "            lineaFinal = lineaFinal[:8] + ',' + lineaFinal[8:10] + ',' + lineaFinal[10:12] + ',' + lineaFinal[12:14] + \\\n",
    "            ',' + lineaFinal[14:16] + ',' + lineaFinal[16:18] + ',' + lineaFinal[20:]\n",
    "            \n",
    "            #print(linea)\n",
    "            #print(lineaFinal)\n",
    "            #escribe la linea en el fichero de salida \n",
    "            with open(funificado, mode='a') as fsalida:\n",
    "                fsalida.write(lineaFinal)\n",
    "            \n"
   ]
  },
  {
   "cell_type": "code",
   "execution_count": 49,
   "metadata": {},
   "outputs": [
    {
     "name": "stdout",
     "output_type": "stream",
     "text": [
      "PROVINCIA;MUNICIPIO;ESTACION;MAGNITUD;PUNTO_MUESTREO;ANO;MES;D01;V01;D02;V02;D03;V03;D04;V04;D05;V05;D06;V06;D07;V07;D08;V08;D09;V09;D10;V10;D11;V11;D12;V12;D13;V13;D14;V14;D15;V15;D16;V16;D17;V17;D18;V18;D19;V19;D20;V20;D21;V21;D22;V22;D23;V23;D24;V24;D25;V25;D26;V26;D27;V27;D28;V28;D29;V29;D30;V30;D31;V31\n",
      "\n",
      "28;079;4;1;28079004_1_38;2017;01;00006;V;00008;V;00012;V;00009;V;00007;V;00010;V;00010;V;00011;V;00010;V;00012;V;00011;V;00008;V;00006;V;00007;V;00007;V;00009;V;00006;V;00005;V;00005;V;00005;V;00006;V;00007;V;00009;V;00012;V;00009;V;00009;V;00005;V;00004;V;00004;V;00005;V;00007;V\n",
      "\n"
     ]
    }
   ],
   "source": [
    "fichero = '../dataCalidad/datos17.csv'\n",
    "with open(fichero, mode='r') as f:\n",
    "    first_line = f.readline()\n",
    "    second_line = f.readline()\n",
    "    print(first_line)\n",
    "    print(second_line)"
   ]
  },
  {
   "cell_type": "code",
   "execution_count": null,
   "metadata": {},
   "outputs": [],
   "source": []
  }
 ],
 "metadata": {
  "kernelspec": {
   "display_name": "Python 3",
   "language": "python",
   "name": "python3"
  },
  "language_info": {
   "codemirror_mode": {
    "name": "ipython",
    "version": 3
   },
   "file_extension": ".py",
   "mimetype": "text/x-python",
   "name": "python",
   "nbconvert_exporter": "python",
   "pygments_lexer": "ipython3",
   "version": "3.6.5"
  }
 },
 "nbformat": 4,
 "nbformat_minor": 2
}
