{
 "cells": [
  {
   "cell_type": "markdown",
   "metadata": {},
   "source": [
    "# Script para leer los fichero txt de calidad del aire y añadir el dato en el csv unificado."
   ]
  },
  {
   "cell_type": "markdown",
   "metadata": {},
   "source": [
    "Librerias"
   ]
  },
  {
   "cell_type": "code",
   "execution_count": 98,
   "metadata": {},
   "outputs": [],
   "source": [
    "import numpy as np\n",
    "import pandas as pd"
   ]
  },
  {
   "cell_type": "markdown",
   "metadata": {},
   "source": [
    "Lista de los ficheros a leer: Los ficheros son de los años indicados en el bucle (de 2010 a 2016, incluidos). 2017 y posteriores tienen otro formato."
   ]
  },
  {
   "cell_type": "markdown",
   "metadata": {},
   "source": [
    "Lee cada línea del fichero y le inserta ',' después de cada 'V' y no escribe la 'V'. Luego a las posiciones fijas de los datos iniciales también se inserta ','"
   ]
  },
  {
   "cell_type": "code",
   "execution_count": 58,
   "metadata": {},
   "outputs": [],
   "source": [
    "cabecera = \"ESTACION,MAGNITUD,TECNICA,DIARIO,AÑO,MES\"\n",
    "for i in range (1,32)  :\n",
    "    cabecera = cabecera + ',D' + str(i) + ',V' + str(i)"
   ]
  },
  {
   "cell_type": "code",
   "execution_count": 59,
   "metadata": {},
   "outputs": [],
   "source": [
    "funificado = '../dataCalidad/datosCalidadUnificado.csv'\n",
    "f = open (funificado,'w')\n",
    "f.write(cabecera + '\\n')\n",
    "f.close()"
   ]
  },
  {
   "cell_type": "code",
   "execution_count": 60,
   "metadata": {
    "scrolled": true
   },
   "outputs": [],
   "source": [
    "#para incluir de 2010 a 2017 el bucle es del rango [10:17]\n",
    "for i in range (10,17)  :  \n",
    "    fichero = '../dataCalidad/datos' + str(i) + '.txt'\n",
    "    with open(fichero, mode='r') as fentrada:\n",
    "        for linea in fentrada:\n",
    "            lineaFinal =''\n",
    "            setV = False\n",
    "            for caracter in linea:\n",
    "                if (caracter == 'V'):\n",
    "                    lineaFinal = lineaFinal + \",\" + caracter\n",
    "                    setV = True\n",
    "                else:\n",
    "                    if (setV and caracter != '\\n'):\n",
    "                        lineaFinal = lineaFinal + \",\" + caracter\n",
    "                        setV = False\n",
    "                    else:\n",
    "                        lineaFinal = lineaFinal + caracter\n",
    "            \n",
    "            lineaFinal = lineaFinal[:8] + ',' + lineaFinal[8:10] + ',' + lineaFinal[10:12] + ',' + lineaFinal[12:14] + \\\n",
    "            ',' + lineaFinal[14:16] + ',' + lineaFinal[16:18] + ',' + lineaFinal[20:]\n",
    "            \n",
    "            #print(linea)\n",
    "            #print(lineaFinal)\n",
    "            #escribe la linea en el fichero de salida \n",
    "            with open(funificado, mode='a') as fsalida:\n",
    "                fsalida.write(lineaFinal)\n",
    "            \n"
   ]
  },
  {
   "cell_type": "markdown",
   "metadata": {},
   "source": [
    "El siguiente paso es unificar el formato antiguo con el nuevo. Hay que añadir las columnas de municpio y provincia y la de punto de muestreo."
   ]
  },
  {
   "cell_type": "code",
   "execution_count": 124,
   "metadata": {},
   "outputs": [
    {
     "name": "stdout",
     "output_type": "stream",
     "text": [
      "   ESTACION  MAGNITUD  TECNICA  DIARIO  AÑO  MES     D1 V1     D2 V2 ...   \\\n",
      "0  28079003         1       38       4   10    1  9.550  V  11.23  V ...    \n",
      "1  28079003         1       38       4   10    2  13.90  V  19.53  V ...    \n",
      "2  28079003         1       38       4   10    3  11.27  V  12.38  V ...    \n",
      "3  28079003         1       38       4   10    4  10.17  V  9.680  V ...    \n",
      "4  28079003         1       38       4   10    5  8.500  V  8.530  V ...    \n",
      "\n",
      "     D27 V27    D28 V28                 D29  V29    D30  V30     D31  V31  \n",
      "0  12.63   V  19.54   V               17.34    V  12.86    V   12.15    V  \n",
      "1  13.11   V  10.70   V  0.000N0.000N0.000N  NaN    NaN  NaN     NaN  NaN  \n",
      "2  11.49   V  13.05   V               12.48    V  11.50    V   11.70    V  \n",
      "3  9.680   V  9.200   V               8.930    V  9.140    V  0.000N  NaN  \n",
      "4  7.820   V  7.090   V               8.100    V  8.470    V   8.490    V  \n",
      "\n",
      "[5 rows x 68 columns]\n",
      "10662\n"
     ]
    }
   ],
   "source": [
    "df = pd.read_csv(\"../dataCalidad/datosCalidadUnificado.csv\")\n",
    "print(df.head())\n",
    "print (df.index.size)"
   ]
  },
  {
   "cell_type": "code",
   "execution_count": 125,
   "metadata": {},
   "outputs": [
    {
     "data": {
      "text/html": [
       "<div>\n",
       "<style scoped>\n",
       "    .dataframe tbody tr th:only-of-type {\n",
       "        vertical-align: middle;\n",
       "    }\n",
       "\n",
       "    .dataframe tbody tr th {\n",
       "        vertical-align: top;\n",
       "    }\n",
       "\n",
       "    .dataframe thead th {\n",
       "        text-align: right;\n",
       "    }\n",
       "</style>\n",
       "<table border=\"1\" class=\"dataframe\">\n",
       "  <thead>\n",
       "    <tr style=\"text-align: right;\">\n",
       "      <th></th>\n",
       "      <th>PROVINCIA</th>\n",
       "      <th>MUNICIPIO</th>\n",
       "      <th>PUNTO_MUESTREO</th>\n",
       "    </tr>\n",
       "  </thead>\n",
       "  <tbody>\n",
       "    <tr>\n",
       "      <th>0</th>\n",
       "      <td>29</td>\n",
       "      <td>79</td>\n",
       "      <td>NA</td>\n",
       "    </tr>\n",
       "  </tbody>\n",
       "</table>\n",
       "</div>"
      ],
      "text/plain": [
       "  PROVINCIA MUNICIPIO PUNTO_MUESTREO\n",
       "0        29        79             NA"
      ]
     },
     "execution_count": 125,
     "metadata": {},
     "output_type": "execute_result"
    }
   ],
   "source": [
    "df_prov_mun_pm = pd.DataFrame(data={'PROVINCIA':[str(29)],'MUNICIPIO':[str(79)],'PUNTO_MUESTREO':[str('NA')]})\n",
    "df_prov_mun_pm"
   ]
  },
  {
   "cell_type": "code",
   "execution_count": 126,
   "metadata": {},
   "outputs": [
    {
     "name": "stdout",
     "output_type": "stream",
     "text": [
      "  PROVINCIA MUNICIPIO PUNTO_MUESTREO\n",
      "0        29        79             NA\n",
      "1\n"
     ]
    }
   ],
   "source": [
    "df_aux = df_prov_mun_pm\n",
    "print(df_aux.head())\n",
    "print (df_aux.index.size)"
   ]
  },
  {
   "cell_type": "code",
   "execution_count": 127,
   "metadata": {},
   "outputs": [
    {
     "name": "stdout",
     "output_type": "stream",
     "text": [
      "  PROVINCIA MUNICIPIO PUNTO_MUESTREO\n",
      "0        29        79             NA\n",
      "0        29        79             NA\n",
      "0        29        79             NA\n",
      "0        29        79             NA\n",
      "0        29        79             NA\n",
      "10662\n"
     ]
    }
   ],
   "source": [
    "while (df_aux.index.size < df.index.size):\n",
    "    df_aux = pd.concat([df_aux,df_prov_mun_pm])\n",
    "print(df_aux.head())\n",
    "print (df_aux.index.size)"
   ]
  },
  {
   "cell_type": "code",
   "execution_count": 146,
   "metadata": {},
   "outputs": [
    {
     "data": {
      "text/html": [
       "<div>\n",
       "<style scoped>\n",
       "    .dataframe tbody tr th:only-of-type {\n",
       "        vertical-align: middle;\n",
       "    }\n",
       "\n",
       "    .dataframe tbody tr th {\n",
       "        vertical-align: top;\n",
       "    }\n",
       "\n",
       "    .dataframe thead th {\n",
       "        text-align: right;\n",
       "    }\n",
       "</style>\n",
       "<table border=\"1\" class=\"dataframe\">\n",
       "  <thead>\n",
       "    <tr style=\"text-align: right;\">\n",
       "      <th></th>\n",
       "      <th>PROVINCIA</th>\n",
       "      <th>MUNICIPIO</th>\n",
       "      <th>PUNTO_MUESTREO</th>\n",
       "    </tr>\n",
       "  </thead>\n",
       "  <tbody>\n",
       "    <tr>\n",
       "      <th>0</th>\n",
       "      <td>29</td>\n",
       "      <td>79</td>\n",
       "      <td>NA</td>\n",
       "    </tr>\n",
       "    <tr>\n",
       "      <th>1</th>\n",
       "      <td>29</td>\n",
       "      <td>79</td>\n",
       "      <td>NA</td>\n",
       "    </tr>\n",
       "    <tr>\n",
       "      <th>2</th>\n",
       "      <td>29</td>\n",
       "      <td>79</td>\n",
       "      <td>NA</td>\n",
       "    </tr>\n",
       "    <tr>\n",
       "      <th>3</th>\n",
       "      <td>29</td>\n",
       "      <td>79</td>\n",
       "      <td>NA</td>\n",
       "    </tr>\n",
       "    <tr>\n",
       "      <th>4</th>\n",
       "      <td>29</td>\n",
       "      <td>79</td>\n",
       "      <td>NA</td>\n",
       "    </tr>\n",
       "  </tbody>\n",
       "</table>\n",
       "</div>"
      ],
      "text/plain": [
       "  PROVINCIA MUNICIPIO PUNTO_MUESTREO\n",
       "0        29        79             NA\n",
       "1        29        79             NA\n",
       "2        29        79             NA\n",
       "3        29        79             NA\n",
       "4        29        79             NA"
      ]
     },
     "execution_count": 146,
     "metadata": {},
     "output_type": "execute_result"
    }
   ],
   "source": [
    "df_aux.index =  range (0,df_aux.index.size)\n",
    "df_aux.head()"
   ]
  },
  {
   "cell_type": "code",
   "execution_count": 147,
   "metadata": {},
   "outputs": [
    {
     "name": "stdout",
     "output_type": "stream",
     "text": [
      "  PROVINCIA MUNICIPIO  ESTACION  MAGNITUD  TECNICA  DIARIO  AÑO  MES     D1  \\\n",
      "0        29        79  28079003         1       38       4   10    1  9.550   \n",
      "1        29        79  28079003         1       38       4   10    2  13.90   \n",
      "2        29        79  28079003         1       38       4   10    3  11.27   \n",
      "3        29        79  28079003         1       38       4   10    4  10.17   \n",
      "4        29        79  28079003         1       38       4   10    5  8.500   \n",
      "\n",
      "  V1 ...     D27 V27    D28 V28                 D29  V29    D30  V30     D31  \\\n",
      "0  V ...   12.63   V  19.54   V               17.34    V  12.86    V   12.15   \n",
      "1  V ...   13.11   V  10.70   V  0.000N0.000N0.000N  NaN    NaN  NaN     NaN   \n",
      "2  V ...   11.49   V  13.05   V               12.48    V  11.50    V   11.70   \n",
      "3  V ...   9.680   V  9.200   V               8.930    V  9.140    V  0.000N   \n",
      "4  V ...   7.820   V  7.090   V               8.100    V  8.470    V   8.490   \n",
      "\n",
      "   V31  \n",
      "0    V  \n",
      "1  NaN  \n",
      "2    V  \n",
      "3  NaN  \n",
      "4    V  \n",
      "\n",
      "[5 rows x 70 columns]\n",
      "10662\n"
     ]
    }
   ],
   "source": [
    "df2 = df_aux.loc[:,df_aux.columns[0:2]].join(df)\n",
    "print(df2.head())\n",
    "print (df2.index.size)"
   ]
  },
  {
   "cell_type": "code",
   "execution_count": 148,
   "metadata": {},
   "outputs": [
    {
     "name": "stdout",
     "output_type": "stream",
     "text": [
      "  PROVINCIA MUNICIPIO  ESTACION  MAGNITUD PUNTO_MUESTREO  AÑO  MES     D1 V1  \\\n",
      "0        29        79  28079003         1             NA   10    1  9.550  V   \n",
      "1        29        79  28079003         1             NA   10    2  13.90  V   \n",
      "2        29        79  28079003         1             NA   10    3  11.27  V   \n",
      "3        29        79  28079003         1             NA   10    4  10.17  V   \n",
      "4        29        79  28079003         1             NA   10    5  8.500  V   \n",
      "\n",
      "      D2 ...     D27 V27    D28 V28                 D29  V29    D30  V30  \\\n",
      "0  11.23 ...   12.63   V  19.54   V               17.34    V  12.86    V   \n",
      "1  19.53 ...   13.11   V  10.70   V  0.000N0.000N0.000N  NaN    NaN  NaN   \n",
      "2  12.38 ...   11.49   V  13.05   V               12.48    V  11.50    V   \n",
      "3  9.680 ...   9.680   V  9.200   V               8.930    V  9.140    V   \n",
      "4  8.530 ...   7.820   V  7.090   V               8.100    V  8.470    V   \n",
      "\n",
      "      D31  V31  \n",
      "0   12.15    V  \n",
      "1     NaN  NaN  \n",
      "2   11.70    V  \n",
      "3  0.000N  NaN  \n",
      "4   8.490    V  \n",
      "\n",
      "[5 rows x 69 columns]\n",
      "10662\n"
     ]
    }
   ],
   "source": [
    "df_final = (df2.loc[:,df2.columns[0:4]].join(df_aux.loc[:,df_aux.columns[2]])).join(df2.loc[:,df.columns[4:]])\n",
    "print (df_final.head())\n",
    "print (df_final.index.size)"
   ]
  },
  {
   "cell_type": "markdown",
   "metadata": {},
   "source": [
    "### Ahora se leen los csv de los años 2017 y 2018 para unificar con los datos anteriores y se guarda en un csv conjunto"
   ]
  },
  {
   "cell_type": "markdown",
   "metadata": {},
   "source": [
    "El bucle es [17:19]"
   ]
  },
  {
   "cell_type": "code",
   "execution_count": 165,
   "metadata": {},
   "outputs": [],
   "source": [
    "df_nuevos = pd.DataFrame()\n",
    "for i in range (17,19)  :  \n",
    "    fichero = '../dataCalidad/datos' + str(i) + '.csv'\n",
    "    df_nuevo = pd.read_csv(fichero, delimiter = ';')\n",
    "    df_nuevos = pd.concat([df_nuevos, df_nuevo])"
   ]
  },
  {
   "cell_type": "code",
   "execution_count": 166,
   "metadata": {},
   "outputs": [
    {
     "name": "stdout",
     "output_type": "stream",
     "text": [
      "   PROVINCIA  MUNICIPIO  ESTACION  MAGNITUD PUNTO_MUESTREO   ANO  MES  D01  \\\n",
      "0         28         79         4         1  28079004_1_38  2017    1  6.0   \n",
      "1         28         79         4         1  28079004_1_38  2017    2  8.0   \n",
      "2         28         79         4         1  28079004_1_38  2017    3  5.0   \n",
      "3         28         79         4         1  28079004_1_38  2017    4  4.0   \n",
      "4         28         79         4         1  28079004_1_38  2017    5  4.0   \n",
      "\n",
      "  V01  D02 ...   D27  V27  D28                  V28  D29  V29  D30      V30  \\\n",
      "0   V  8.0 ...   5.0    V  4.0                    V  4.0    V  5.0        V   \n",
      "1   V  4.0 ...   4.0    V  4.0  V00000N00000N00000N  NaN  NaN  NaN      NaN   \n",
      "2   V  7.0 ...   4.0    V  5.0                    V  7.0    V  7.0        V   \n",
      "3   V  4.0 ...   3.0    V  4.0                    V  4.0    V  4.0  V00000N   \n",
      "4   V  5.0 ...   5.0    V  5.0                    V  4.0    V  4.0        V   \n",
      "\n",
      "   D31  V31  \n",
      "0  7.0    V  \n",
      "1  NaN  NaN  \n",
      "2  5.0    V  \n",
      "3  NaN  NaN  \n",
      "4  5.0    V  \n",
      "\n",
      "[5 rows x 69 columns]\n",
      "2565\n"
     ]
    }
   ],
   "source": [
    "print (df_nuevos.head())\n",
    "print (df_nuevos.index.size)"
   ]
  },
  {
   "cell_type": "code",
   "execution_count": 174,
   "metadata": {},
   "outputs": [
    {
     "name": "stdout",
     "output_type": "stream",
     "text": [
      "  PROVINCIA MUNICIPIO  ESTACION  MAGNITUD PUNTO_MUESTREO  ANO  MES    D01 V01  \\\n",
      "0        29        79  28079003         1             NA   10    1  9.550   V   \n",
      "1        29        79  28079003         1             NA   10    2  13.90   V   \n",
      "2        29        79  28079003         1             NA   10    3  11.27   V   \n",
      "3        29        79  28079003         1             NA   10    4  10.17   V   \n",
      "4        29        79  28079003         1             NA   10    5  8.500   V   \n",
      "\n",
      "     D02 ...     D27 V27    D28 V28                 D29  V29    D30  V30  \\\n",
      "0  11.23 ...   12.63   V  19.54   V               17.34    V  12.86    V   \n",
      "1  19.53 ...   13.11   V  10.70   V  0.000N0.000N0.000N  NaN    NaN  NaN   \n",
      "2  12.38 ...   11.49   V  13.05   V               12.48    V  11.50    V   \n",
      "3  9.680 ...   9.680   V  9.200   V               8.930    V  9.140    V   \n",
      "4  8.530 ...   7.820   V  7.090   V               8.100    V  8.470    V   \n",
      "\n",
      "      D31  V31  \n",
      "0   12.15    V  \n",
      "1     NaN  NaN  \n",
      "2   11.70    V  \n",
      "3  0.000N  NaN  \n",
      "4   8.490    V  \n",
      "\n",
      "[5 rows x 69 columns]\n",
      "10662\n"
     ]
    }
   ],
   "source": [
    "df_final.rename(columns={'AÑO': 'ANO'}, inplace=True)\n",
    "df_final.rename(columns={'D1': 'D01', 'D2': 'D02', 'D3': 'D03', 'D4': 'D04', 'D5': 'D05', 'D6': 'D06', 'D7': 'D07' , 'D8': 'D08', 'D9': 'D09'}, inplace=True)\n",
    "df_final.rename(columns={'V1': 'V01', 'V2': 'V02', 'V3': 'V03', 'V4': 'V04', 'V5': 'V05', 'V6': 'V06', 'V7': 'V07' , 'V8': 'V08', 'V9': 'V09'}, inplace=True)\n",
    "print (df_final.head())\n",
    "print (df_final.index.size)"
   ]
  },
  {
   "cell_type": "code",
   "execution_count": 175,
   "metadata": {},
   "outputs": [
    {
     "name": "stdout",
     "output_type": "stream",
     "text": [
      "       PROVINCIA  MUNICIPIO  ESTACION  MAGNITUD PUNTO_MUESTREO   ANO  MES  \\\n",
      "10662         28         79         4         1  28079004_1_38  2017    1   \n",
      "10663         28         79         4         1  28079004_1_38  2017    2   \n",
      "10664         28         79         4         1  28079004_1_38  2017    3   \n",
      "10665         28         79         4         1  28079004_1_38  2017    4   \n",
      "10666         28         79         4         1  28079004_1_38  2017    5   \n",
      "\n",
      "       D01 V01  D02 ...   D27  V27  D28                  V28  D29  V29  D30  \\\n",
      "10662  6.0   V  8.0 ...   5.0    V  4.0                    V  4.0    V  5.0   \n",
      "10663  8.0   V  4.0 ...   4.0    V  4.0  V00000N00000N00000N  NaN  NaN  NaN   \n",
      "10664  5.0   V  7.0 ...   4.0    V  5.0                    V  7.0    V  7.0   \n",
      "10665  4.0   V  4.0 ...   3.0    V  4.0                    V  4.0    V  4.0   \n",
      "10666  4.0   V  5.0 ...   5.0    V  5.0                    V  4.0    V  4.0   \n",
      "\n",
      "           V30  D31  V31  \n",
      "10662        V  7.0    V  \n",
      "10663      NaN  NaN  NaN  \n",
      "10664        V  5.0    V  \n",
      "10665  V00000N  NaN  NaN  \n",
      "10666        V  5.0    V  \n",
      "\n",
      "[5 rows x 69 columns]\n",
      "2565\n"
     ]
    }
   ],
   "source": [
    "df_nuevos.index =range(df_final.index.size, (df_final.index.size + df_nuevos.index.size))\n",
    "print (df_nuevos.head())\n",
    "print (df_nuevos.index.size)"
   ]
  },
  {
   "cell_type": "code",
   "execution_count": 176,
   "metadata": {},
   "outputs": [
    {
     "name": "stdout",
     "output_type": "stream",
     "text": [
      "  PROVINCIA MUNICIPIO  ESTACION  MAGNITUD PUNTO_MUESTREO  ANO  MES    D01 V01  \\\n",
      "0        29        79  28079003         1             NA   10    1  9.550   V   \n",
      "1        29        79  28079003         1             NA   10    2  13.90   V   \n",
      "2        29        79  28079003         1             NA   10    3  11.27   V   \n",
      "3        29        79  28079003         1             NA   10    4  10.17   V   \n",
      "4        29        79  28079003         1             NA   10    5  8.500   V   \n",
      "\n",
      "     D02 ...     D27 V27    D28 V28                 D29  V29    D30  V30  \\\n",
      "0  11.23 ...   12.63   V  19.54   V               17.34    V  12.86    V   \n",
      "1  19.53 ...   13.11   V  10.70   V  0.000N0.000N0.000N  NaN    NaN  NaN   \n",
      "2  12.38 ...   11.49   V  13.05   V               12.48    V  11.50    V   \n",
      "3  9.680 ...   9.680   V  9.200   V               8.930    V  9.140    V   \n",
      "4  8.530 ...   7.820   V  7.090   V               8.100    V  8.470    V   \n",
      "\n",
      "      D31  V31  \n",
      "0   12.15    V  \n",
      "1     NaN  NaN  \n",
      "2   11.70    V  \n",
      "3  0.000N  NaN  \n",
      "4   8.490    V  \n",
      "\n",
      "[5 rows x 69 columns]\n",
      "13227\n"
     ]
    }
   ],
   "source": [
    "df_unidos = pd.concat([df_final, df_nuevos])\n",
    "print (df_unidos.head())\n",
    "print (df_unidos.index.size)"
   ]
  },
  {
   "cell_type": "code",
   "execution_count": 177,
   "metadata": {},
   "outputs": [],
   "source": [
    "df_unidos.to_csv('../dataCalidad/datosCalidadUnidosFinal.csv')"
   ]
  },
  {
   "cell_type": "code",
   "execution_count": null,
   "metadata": {},
   "outputs": [],
   "source": []
  }
 ],
 "metadata": {
  "kernelspec": {
   "display_name": "Python 3",
   "language": "python",
   "name": "python3"
  },
  "language_info": {
   "codemirror_mode": {
    "name": "ipython",
    "version": 3
   },
   "file_extension": ".py",
   "mimetype": "text/x-python",
   "name": "python",
   "nbconvert_exporter": "python",
   "pygments_lexer": "ipython3",
   "version": "3.6.5"
  }
 },
 "nbformat": 4,
 "nbformat_minor": 2
}
