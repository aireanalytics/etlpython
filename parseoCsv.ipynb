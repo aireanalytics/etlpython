{
 "cells": [
  {
   "cell_type": "markdown",
   "metadata": {},
   "source": [
    "## Script que pasa todos los ficheros json de las estaciones a un único cvs"
   ]
  },
  {
   "cell_type": "code",
   "execution_count": 1,
   "metadata": {},
   "outputs": [],
   "source": [
    "import json\n",
    "import pandas\n",
    "from pandas.io.json import json_normalize"
   ]
  },
  {
   "cell_type": "code",
   "execution_count": 28,
   "metadata": {},
   "outputs": [],
   "source": [
    "estaciones = ['3100B','3110C','3191E','3200','3129','3194U','3196','3195','3266A','2462','3338','3111D','3175']"
   ]
  },
  {
   "cell_type": "markdown",
   "metadata": {},
   "source": [
    "función para el tratamiento del texto"
   ]
  },
  {
   "cell_type": "code",
   "execution_count": 76,
   "metadata": {},
   "outputs": [],
   "source": [
    "def limpiaTexto(linea):\n",
    "    lineaLimpia = ''\n",
    "    if ('}{' in line):\n",
    "        lineaLimpia =','\n",
    "    elif ('[' not in line and ']' not in line and 'No hay datos' not in line and '\"estado\": 404' not in line):\n",
    "        lineaLimpia = line\n",
    "    elif ('][' in line or '}[' in line):\n",
    "        lineaLimpia =','\n",
    "    \n",
    "    return lineaLimpia"
   ]
  },
  {
   "cell_type": "markdown",
   "metadata": {},
   "source": [
    "Primero unifico los ficheros en uno único que empieza con '[' y termina con ']' y que ignora el resto de corchetes "
   ]
  },
  {
   "cell_type": "code",
   "execution_count": 91,
   "metadata": {},
   "outputs": [],
   "source": [
    "funificado = '../data/unificado.json'\n",
    "f = open (funificado,'w')\n",
    "f.write('[\\n')\n",
    "f.close()"
   ]
  },
  {
   "cell_type": "markdown",
   "metadata": {},
   "source": [
    "Unifica los ficheros. Cada vez que abre un ficher se debe poner una ',' menos en el primero"
   ]
  },
  {
   "cell_type": "code",
   "execution_count": 92,
   "metadata": {},
   "outputs": [],
   "source": [
    "for estacion in estaciones:\n",
    "    #indicador de escritura de coma\n",
    "    coma = False\n",
    "    if estaciones.index(estacion) > 0:\n",
    "        with open(funificado, mode='a') as fsalida:\n",
    "            if (not coma):\n",
    "                fsalida.write(',') \n",
    "                coma = True\n",
    "    fichero = '../data/' + estacion + 'data.json'\n",
    "    with open(fichero, mode='r') as fentrada:\n",
    "        with open(funificado, mode='a') as fsalida:\n",
    "            for line in fentrada:\n",
    "                lineaLimpia = limpiaTexto(line)\n",
    "                if (lineaLimpia is not ''):\n",
    "                    if (lineaLimpia is not ','):\n",
    "                        fsalida.write(lineaLimpia)\n",
    "                        coma = False\n",
    "                    elif (not coma):\n",
    "                        fsalida.write(lineaLimpia)\n",
    "                        coma = True"
   ]
  },
  {
   "cell_type": "markdown",
   "metadata": {},
   "source": [
    "Cierro el fichero con ']'"
   ]
  },
  {
   "cell_type": "code",
   "execution_count": 93,
   "metadata": {},
   "outputs": [],
   "source": [
    "with open(funificado, mode='a') as fsalida:\n",
    "    fsalida.write(']')"
   ]
  },
  {
   "cell_type": "markdown",
   "metadata": {},
   "source": [
    "Ahora leo el unificado y lo guardo en csv."
   ]
  },
  {
   "cell_type": "code",
   "execution_count": 94,
   "metadata": {},
   "outputs": [],
   "source": [
    "with open(funificado, mode='r') as f:\n",
    "    json_data = json.loads(f.read())\n",
    "data_norm = json_normalize(json_data)\n",
    "df1 = pandas.DataFrame(data_norm)\n",
    "df1.to_csv('../data/aemetMadrid.csv')\n"
   ]
  },
  {
   "cell_type": "code",
   "execution_count": null,
   "metadata": {},
   "outputs": [],
   "source": []
  }
 ],
 "metadata": {
  "kernelspec": {
   "display_name": "Python 3",
   "language": "python",
   "name": "python3"
  },
  "language_info": {
   "codemirror_mode": {
    "name": "ipython",
    "version": 3
   },
   "file_extension": ".py",
   "mimetype": "text/x-python",
   "name": "python",
   "nbconvert_exporter": "python",
   "pygments_lexer": "ipython3",
   "version": "3.6.5"
  }
 },
 "nbformat": 4,
 "nbformat_minor": 2
}
